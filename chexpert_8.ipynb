{
  "cells": [
    {
      "cell_type": "code",
      "execution_count": null,
      "id": "5fa959ef",
      "metadata": {
        "id": "5fa959ef"
      },
      "outputs": [],
      "source": [
        "import numpy as np\n",
        "import pandas as pd\n",
        "import matplotlib.pyplot as plt\n",
        "import seaborn as sns\n",
        "\n",
        "import tensorflow as tf\n",
        "from keras.preprocessing.image import ImageDataGenerator\n",
        "from keras.applications.densenet import DenseNet121\n",
        "from keras.layers import Dense, Flatten, AveragePooling2D, Dropout,GlobalAveragePooling2D, MaxPooling2D, Flatten, BatchNormalization\n",
        "from keras.models import Model, load_model\n",
        "from tensorflow.keras.preprocessing import image\n",
        "from tensorflow.keras.optimizers import Adam\n",
        "\n",
        "from keras import backend as K\n",
        "import util\n",
        "\n",
        "import os\n",
        "from os.path import join\n",
        "from pathlib import Path\n",
        "\n",
        "import warnings\n",
        "warnings.filterwarnings('ignore')\n",
        "\n",
        "import wandb\n",
        "from wandb.keras import WandbMetricsLogger, WandbModelCheckpoint"
      ]
    },
    {
      "cell_type": "code",
      "execution_count": null,
      "id": "ab2f002e",
      "metadata": {
        "id": "ab2f002e"
      },
      "outputs": [],
      "source": [
        "physical_devices = tf.config.experimental.list_physical_devices('GPU')\n",
        "tf.config.experimental.set_memory_growth(physical_devices[0], True)\n",
        "tf.config.experimental.set_memory_growth(physical_devices[1], True)"
      ]
    },
    {
      "cell_type": "code",
      "execution_count": null,
      "id": "4bfb9c2f",
      "metadata": {
        "id": "4bfb9c2f",
        "outputId": "472587d8-cf61-4f44-aa22-30a02b176df3"
      },
      "outputs": [
        {
          "name": "stderr",
          "output_type": "stream",
          "text": [
            "\u001b[34m\u001b[1mwandb\u001b[0m: Currently logged in as: \u001b[33mashu1069\u001b[0m (\u001b[33mcogxrlabs\u001b[0m). Use \u001b[1m`wandb login --relogin`\u001b[0m to force relogin\n"
          ]
        },
        {
          "data": {
            "text/html": [
              "wandb version 0.15.3 is available!  To upgrade, please run:\n",
              " $ pip install wandb --upgrade"
            ],
            "text/plain": [
              "<IPython.core.display.HTML object>"
            ]
          },
          "metadata": {},
          "output_type": "display_data"
        },
        {
          "data": {
            "text/html": [
              "Tracking run with wandb version 0.14.0"
            ],
            "text/plain": [
              "<IPython.core.display.HTML object>"
            ]
          },
          "metadata": {},
          "output_type": "display_data"
        },
        {
          "data": {
            "text/html": [
              "Run data is saved locally in <code>C:\\Users\\User1\\chexpert\\wandb\\run-20230523_164351-4eds97jb</code>"
            ],
            "text/plain": [
              "<IPython.core.display.HTML object>"
            ]
          },
          "metadata": {},
          "output_type": "display_data"
        },
        {
          "data": {
            "text/html": [
              "Syncing run <strong><a href='https://wandb.ai/cogxrlabs/BTP/runs/4eds97jb' target=\"_blank\">Chexpert</a></strong> to <a href='https://wandb.ai/cogxrlabs/BTP' target=\"_blank\">Weights & Biases</a> (<a href='https://wandb.me/run' target=\"_blank\">docs</a>)<br/>"
            ],
            "text/plain": [
              "<IPython.core.display.HTML object>"
            ]
          },
          "metadata": {},
          "output_type": "display_data"
        },
        {
          "data": {
            "text/html": [
              " View project at <a href='https://wandb.ai/cogxrlabs/BTP' target=\"_blank\">https://wandb.ai/cogxrlabs/BTP</a>"
            ],
            "text/plain": [
              "<IPython.core.display.HTML object>"
            ]
          },
          "metadata": {},
          "output_type": "display_data"
        },
        {
          "data": {
            "text/html": [
              " View run at <a href='https://wandb.ai/cogxrlabs/BTP/runs/4eds97jb' target=\"_blank\">https://wandb.ai/cogxrlabs/BTP/runs/4eds97jb</a>"
            ],
            "text/plain": [
              "<IPython.core.display.HTML object>"
            ]
          },
          "metadata": {},
          "output_type": "display_data"
        },
        {
          "data": {
            "text/html": [
              "<button onClick=\"this.nextSibling.style.display='block';this.style.display='none';\">Display W&B run</button><iframe src='https://wandb.ai/cogxrlabs/BTP/runs/4eds97jb?jupyter=true' style='border:none;width:100%;height:420px;display:none;'></iframe>"
            ],
            "text/plain": [
              "<wandb.sdk.wandb_run.Run at 0x252f1fd8af0>"
            ]
          },
          "execution_count": 3,
          "metadata": {},
          "output_type": "execute_result"
        }
      ],
      "source": [
        "wandb.init(\n",
        "    project ='BTP',\n",
        "    name = 'Chexpert',\n",
        "    config={\n",
        "        'root_path': \"E:/CogXR/datasets/chexpert_final\",\n",
        "        'df':\"E:/CogXR/datasets/chexpert_final/chexpert_labels.csv\",\n",
        "        'labels' : ['No Finding',\n",
        "       'Enlarged Cardiomediastinum', 'Cardiomegaly', 'Lung Opacity',\n",
        "       'Lung Lesion', 'Edema', 'Consolidation', 'Pneumonia', 'Atelectasis',\n",
        "       'Pneumothorax', 'Pleural Effusion', 'Pleural Other', 'Fracture',\n",
        "       'Support Devices','COVID', 'TB'],\n",
        "        'lr': 0.0001,\n",
        "        'batch_size': 32,\n",
        "        'epoch': 30,\n",
        "        'save_file_name': 'btp',\n",
        "        'target_labels': ['Atelectasis', 'Cardiomegaly', 'Consolidation', 'Edema','Pneumonia', 'Pleural Effusion','COVID','TB'],\n",
        "    }\n",
        ")"
      ]
    },
    {
      "cell_type": "code",
      "execution_count": null,
      "id": "c4a5fddd",
      "metadata": {
        "id": "c4a5fddd"
      },
      "outputs": [],
      "source": [
        "config = wandb.config\n",
        "data_path = Path(config.root_path)"
      ]
    },
    {
      "cell_type": "code",
      "execution_count": null,
      "id": "9049a449",
      "metadata": {
        "id": "9049a449",
        "outputId": "01c0f854-8fe5-453d-a81a-133f4dc5a42c"
      },
      "outputs": [
        {
          "data": {
            "text/html": [
              "<div>\n",
              "<style scoped>\n",
              "    .dataframe tbody tr th:only-of-type {\n",
              "        vertical-align: middle;\n",
              "    }\n",
              "\n",
              "    .dataframe tbody tr th {\n",
              "        vertical-align: top;\n",
              "    }\n",
              "\n",
              "    .dataframe thead th {\n",
              "        text-align: right;\n",
              "    }\n",
              "</style>\n",
              "<table border=\"1\" class=\"dataframe\">\n",
              "  <thead>\n",
              "    <tr style=\"text-align: right;\">\n",
              "      <th></th>\n",
              "      <th>Unnamed: 0.1</th>\n",
              "      <th>Unnamed: 0</th>\n",
              "      <th>Path</th>\n",
              "      <th>No Finding</th>\n",
              "      <th>Enlarged Cardiomediastinum</th>\n",
              "      <th>Cardiomegaly</th>\n",
              "      <th>Lung Opacity</th>\n",
              "      <th>Lung Lesion</th>\n",
              "      <th>Edema</th>\n",
              "      <th>Consolidation</th>\n",
              "      <th>Pneumonia</th>\n",
              "      <th>Atelectasis</th>\n",
              "      <th>Pneumothorax</th>\n",
              "      <th>Pleural Effusion</th>\n",
              "      <th>Pleural Other</th>\n",
              "      <th>Fracture</th>\n",
              "      <th>Support Devices</th>\n",
              "      <th>COVID</th>\n",
              "      <th>TB</th>\n",
              "    </tr>\n",
              "  </thead>\n",
              "  <tbody>\n",
              "    <tr>\n",
              "      <th>0</th>\n",
              "      <td>0</td>\n",
              "      <td>0</td>\n",
              "      <td>Images/0.png</td>\n",
              "      <td>1.0</td>\n",
              "      <td>0.0</td>\n",
              "      <td>0.0</td>\n",
              "      <td>0.0</td>\n",
              "      <td>0.0</td>\n",
              "      <td>0.0</td>\n",
              "      <td>0.0</td>\n",
              "      <td>0.0</td>\n",
              "      <td>0.0</td>\n",
              "      <td>0.0</td>\n",
              "      <td>0.0</td>\n",
              "      <td>0.0</td>\n",
              "      <td>0.0</td>\n",
              "      <td>1.0</td>\n",
              "      <td>0.0</td>\n",
              "      <td>0.0</td>\n",
              "    </tr>\n",
              "    <tr>\n",
              "      <th>1</th>\n",
              "      <td>1</td>\n",
              "      <td>1</td>\n",
              "      <td>Images/1.png</td>\n",
              "      <td>0.0</td>\n",
              "      <td>0.0</td>\n",
              "      <td>0.0</td>\n",
              "      <td>1.0</td>\n",
              "      <td>0.0</td>\n",
              "      <td>0.0</td>\n",
              "      <td>0.0</td>\n",
              "      <td>0.0</td>\n",
              "      <td>0.0</td>\n",
              "      <td>0.0</td>\n",
              "      <td>0.0</td>\n",
              "      <td>0.0</td>\n",
              "      <td>1.0</td>\n",
              "      <td>0.0</td>\n",
              "      <td>0.0</td>\n",
              "      <td>0.0</td>\n",
              "    </tr>\n",
              "    <tr>\n",
              "      <th>2</th>\n",
              "      <td>2</td>\n",
              "      <td>2</td>\n",
              "      <td>Images/2.png</td>\n",
              "      <td>0.0</td>\n",
              "      <td>0.0</td>\n",
              "      <td>0.0</td>\n",
              "      <td>1.0</td>\n",
              "      <td>0.0</td>\n",
              "      <td>0.0</td>\n",
              "      <td>0.0</td>\n",
              "      <td>0.0</td>\n",
              "      <td>0.0</td>\n",
              "      <td>0.0</td>\n",
              "      <td>0.0</td>\n",
              "      <td>0.0</td>\n",
              "      <td>1.0</td>\n",
              "      <td>0.0</td>\n",
              "      <td>0.0</td>\n",
              "      <td>0.0</td>\n",
              "    </tr>\n",
              "    <tr>\n",
              "      <th>3</th>\n",
              "      <td>3</td>\n",
              "      <td>3</td>\n",
              "      <td>Images/3.png</td>\n",
              "      <td>0.0</td>\n",
              "      <td>0.0</td>\n",
              "      <td>0.0</td>\n",
              "      <td>1.0</td>\n",
              "      <td>0.0</td>\n",
              "      <td>0.0</td>\n",
              "      <td>0.0</td>\n",
              "      <td>0.0</td>\n",
              "      <td>0.0</td>\n",
              "      <td>0.0</td>\n",
              "      <td>0.0</td>\n",
              "      <td>0.0</td>\n",
              "      <td>1.0</td>\n",
              "      <td>0.0</td>\n",
              "      <td>0.0</td>\n",
              "      <td>0.0</td>\n",
              "    </tr>\n",
              "    <tr>\n",
              "      <th>4</th>\n",
              "      <td>4</td>\n",
              "      <td>4</td>\n",
              "      <td>Images/4.png</td>\n",
              "      <td>0.0</td>\n",
              "      <td>0.0</td>\n",
              "      <td>0.0</td>\n",
              "      <td>0.0</td>\n",
              "      <td>0.0</td>\n",
              "      <td>1.0</td>\n",
              "      <td>0.0</td>\n",
              "      <td>0.0</td>\n",
              "      <td>0.0</td>\n",
              "      <td>0.0</td>\n",
              "      <td>0.0</td>\n",
              "      <td>0.0</td>\n",
              "      <td>0.0</td>\n",
              "      <td>0.0</td>\n",
              "      <td>0.0</td>\n",
              "      <td>0.0</td>\n",
              "    </tr>\n",
              "    <tr>\n",
              "      <th>...</th>\n",
              "      <td>...</td>\n",
              "      <td>...</td>\n",
              "      <td>...</td>\n",
              "      <td>...</td>\n",
              "      <td>...</td>\n",
              "      <td>...</td>\n",
              "      <td>...</td>\n",
              "      <td>...</td>\n",
              "      <td>...</td>\n",
              "      <td>...</td>\n",
              "      <td>...</td>\n",
              "      <td>...</td>\n",
              "      <td>...</td>\n",
              "      <td>...</td>\n",
              "      <td>...</td>\n",
              "      <td>...</td>\n",
              "      <td>...</td>\n",
              "      <td>...</td>\n",
              "      <td>...</td>\n",
              "    </tr>\n",
              "    <tr>\n",
              "      <th>242452</th>\n",
              "      <td>242452</td>\n",
              "      <td>242452</td>\n",
              "      <td>Images/242452.png</td>\n",
              "      <td>0.0</td>\n",
              "      <td>0.0</td>\n",
              "      <td>0.0</td>\n",
              "      <td>0.0</td>\n",
              "      <td>0.0</td>\n",
              "      <td>0.0</td>\n",
              "      <td>0.0</td>\n",
              "      <td>0.0</td>\n",
              "      <td>0.0</td>\n",
              "      <td>0.0</td>\n",
              "      <td>0.0</td>\n",
              "      <td>0.0</td>\n",
              "      <td>0.0</td>\n",
              "      <td>0.0</td>\n",
              "      <td>0.0</td>\n",
              "      <td>1.0</td>\n",
              "    </tr>\n",
              "    <tr>\n",
              "      <th>242453</th>\n",
              "      <td>242453</td>\n",
              "      <td>242453</td>\n",
              "      <td>Images/242453.png</td>\n",
              "      <td>0.0</td>\n",
              "      <td>0.0</td>\n",
              "      <td>0.0</td>\n",
              "      <td>0.0</td>\n",
              "      <td>0.0</td>\n",
              "      <td>0.0</td>\n",
              "      <td>0.0</td>\n",
              "      <td>0.0</td>\n",
              "      <td>0.0</td>\n",
              "      <td>0.0</td>\n",
              "      <td>0.0</td>\n",
              "      <td>0.0</td>\n",
              "      <td>0.0</td>\n",
              "      <td>0.0</td>\n",
              "      <td>0.0</td>\n",
              "      <td>1.0</td>\n",
              "    </tr>\n",
              "    <tr>\n",
              "      <th>242454</th>\n",
              "      <td>242454</td>\n",
              "      <td>242454</td>\n",
              "      <td>Images/242454.png</td>\n",
              "      <td>0.0</td>\n",
              "      <td>0.0</td>\n",
              "      <td>0.0</td>\n",
              "      <td>0.0</td>\n",
              "      <td>0.0</td>\n",
              "      <td>0.0</td>\n",
              "      <td>0.0</td>\n",
              "      <td>0.0</td>\n",
              "      <td>0.0</td>\n",
              "      <td>0.0</td>\n",
              "      <td>0.0</td>\n",
              "      <td>0.0</td>\n",
              "      <td>0.0</td>\n",
              "      <td>0.0</td>\n",
              "      <td>0.0</td>\n",
              "      <td>1.0</td>\n",
              "    </tr>\n",
              "    <tr>\n",
              "      <th>242455</th>\n",
              "      <td>242455</td>\n",
              "      <td>242455</td>\n",
              "      <td>Images/242455.png</td>\n",
              "      <td>0.0</td>\n",
              "      <td>0.0</td>\n",
              "      <td>0.0</td>\n",
              "      <td>0.0</td>\n",
              "      <td>0.0</td>\n",
              "      <td>0.0</td>\n",
              "      <td>0.0</td>\n",
              "      <td>0.0</td>\n",
              "      <td>0.0</td>\n",
              "      <td>0.0</td>\n",
              "      <td>0.0</td>\n",
              "      <td>0.0</td>\n",
              "      <td>0.0</td>\n",
              "      <td>0.0</td>\n",
              "      <td>0.0</td>\n",
              "      <td>1.0</td>\n",
              "    </tr>\n",
              "    <tr>\n",
              "      <th>242456</th>\n",
              "      <td>242456</td>\n",
              "      <td>242456</td>\n",
              "      <td>Images/242456.png</td>\n",
              "      <td>0.0</td>\n",
              "      <td>0.0</td>\n",
              "      <td>0.0</td>\n",
              "      <td>0.0</td>\n",
              "      <td>0.0</td>\n",
              "      <td>0.0</td>\n",
              "      <td>0.0</td>\n",
              "      <td>0.0</td>\n",
              "      <td>0.0</td>\n",
              "      <td>0.0</td>\n",
              "      <td>0.0</td>\n",
              "      <td>0.0</td>\n",
              "      <td>0.0</td>\n",
              "      <td>0.0</td>\n",
              "      <td>0.0</td>\n",
              "      <td>1.0</td>\n",
              "    </tr>\n",
              "  </tbody>\n",
              "</table>\n",
              "<p>242457 rows × 19 columns</p>\n",
              "</div>"
            ],
            "text/plain": [
              "        Unnamed: 0.1  Unnamed: 0               Path  No Finding  \\\n",
              "0                  0           0       Images/0.png         1.0   \n",
              "1                  1           1       Images/1.png         0.0   \n",
              "2                  2           2       Images/2.png         0.0   \n",
              "3                  3           3       Images/3.png         0.0   \n",
              "4                  4           4       Images/4.png         0.0   \n",
              "...              ...         ...                ...         ...   \n",
              "242452        242452      242452  Images/242452.png         0.0   \n",
              "242453        242453      242453  Images/242453.png         0.0   \n",
              "242454        242454      242454  Images/242454.png         0.0   \n",
              "242455        242455      242455  Images/242455.png         0.0   \n",
              "242456        242456      242456  Images/242456.png         0.0   \n",
              "\n",
              "        Enlarged Cardiomediastinum  Cardiomegaly  Lung Opacity  Lung Lesion  \\\n",
              "0                              0.0           0.0           0.0          0.0   \n",
              "1                              0.0           0.0           1.0          0.0   \n",
              "2                              0.0           0.0           1.0          0.0   \n",
              "3                              0.0           0.0           1.0          0.0   \n",
              "4                              0.0           0.0           0.0          0.0   \n",
              "...                            ...           ...           ...          ...   \n",
              "242452                         0.0           0.0           0.0          0.0   \n",
              "242453                         0.0           0.0           0.0          0.0   \n",
              "242454                         0.0           0.0           0.0          0.0   \n",
              "242455                         0.0           0.0           0.0          0.0   \n",
              "242456                         0.0           0.0           0.0          0.0   \n",
              "\n",
              "        Edema  Consolidation  Pneumonia  Atelectasis  Pneumothorax  \\\n",
              "0         0.0            0.0        0.0          0.0           0.0   \n",
              "1         0.0            0.0        0.0          0.0           0.0   \n",
              "2         0.0            0.0        0.0          0.0           0.0   \n",
              "3         0.0            0.0        0.0          0.0           0.0   \n",
              "4         1.0            0.0        0.0          0.0           0.0   \n",
              "...       ...            ...        ...          ...           ...   \n",
              "242452    0.0            0.0        0.0          0.0           0.0   \n",
              "242453    0.0            0.0        0.0          0.0           0.0   \n",
              "242454    0.0            0.0        0.0          0.0           0.0   \n",
              "242455    0.0            0.0        0.0          0.0           0.0   \n",
              "242456    0.0            0.0        0.0          0.0           0.0   \n",
              "\n",
              "        Pleural Effusion  Pleural Other  Fracture  Support Devices  COVID   TB  \n",
              "0                    0.0            0.0       0.0              1.0    0.0  0.0  \n",
              "1                    0.0            0.0       1.0              0.0    0.0  0.0  \n",
              "2                    0.0            0.0       1.0              0.0    0.0  0.0  \n",
              "3                    0.0            0.0       1.0              0.0    0.0  0.0  \n",
              "4                    0.0            0.0       0.0              0.0    0.0  0.0  \n",
              "...                  ...            ...       ...              ...    ...  ...  \n",
              "242452               0.0            0.0       0.0              0.0    0.0  1.0  \n",
              "242453               0.0            0.0       0.0              0.0    0.0  1.0  \n",
              "242454               0.0            0.0       0.0              0.0    0.0  1.0  \n",
              "242455               0.0            0.0       0.0              0.0    0.0  1.0  \n",
              "242456               0.0            0.0       0.0              0.0    0.0  1.0  \n",
              "\n",
              "[242457 rows x 19 columns]"
            ]
          },
          "execution_count": 5,
          "metadata": {},
          "output_type": "execute_result"
        }
      ],
      "source": [
        "df = pd.read_csv(config.df)\n",
        "df"
      ]
    },
    {
      "cell_type": "code",
      "execution_count": null,
      "id": "e00a9fe1",
      "metadata": {
        "id": "e00a9fe1"
      },
      "outputs": [],
      "source": [
        "train_df = df.sample(frac = 0.8)\n",
        "test_df = df.drop(train_df.index)"
      ]
    },
    {
      "cell_type": "markdown",
      "id": "90a39d5b",
      "metadata": {
        "id": "90a39d5b"
      },
      "source": [
        "### Data Generator"
      ]
    },
    {
      "cell_type": "code",
      "execution_count": null,
      "id": "04a73312",
      "metadata": {
        "id": "04a73312"
      },
      "outputs": [],
      "source": [
        "def get_train_and_valid_generator(df, image_dir, x_col, y_col,\n",
        "                        shuffle=True, batch_size=config.batch_size, seed=1,\n",
        "                        target_w = 320, target_h = 320):\n",
        "    # x_col (str): name of column in df that holds filenames.\n",
        "    # y_col (list): name of column in df that holds labels.\n",
        "\n",
        "    print(\"getting train and val generator...\")\n",
        "    # normalize each image using batch statistic\n",
        "    image_generator = ImageDataGenerator(\n",
        "        samplewise_center=True,\n",
        "        samplewise_std_normalization= True,\n",
        "        zoom_range = 0.1,\n",
        "        rotation_range = 5,\n",
        "        width_shift_range = 0.1,\n",
        "        height_shift_range = 0.1,\n",
        "        validation_split = 0.1\n",
        "    )\n",
        "\n",
        "    # Train and valid generator\n",
        "    train_generator = image_generator.flow_from_dataframe(\n",
        "                                dataframe=df,\n",
        "                                directory=data_path,\n",
        "                                x_col=x_col,\n",
        "                                y_col=y_col,\n",
        "                                class_mode=\"raw\",\n",
        "                                batch_size=batch_size,\n",
        "                                shuffle=shuffle,\n",
        "                                seed=seed,\n",
        "                                subset=\"training\",\n",
        "                                target_size=(target_w,target_h))\n",
        "\n",
        "    valid_generator = image_generator.flow_from_dataframe(\n",
        "                                dataframe=df,\n",
        "                                directory=data_path,\n",
        "                                x_col=x_col,\n",
        "                                y_col=y_col,\n",
        "                                class_mode=\"raw\",\n",
        "                                batch_size=batch_size,\n",
        "                                shuffle=shuffle,\n",
        "                                seed=seed,\n",
        "                                subset=\"validation\",\n",
        "                                target_size=(target_w,target_h))\n",
        "\n",
        "    return train_generator, valid_generator"
      ]
    },
    {
      "cell_type": "code",
      "execution_count": null,
      "id": "539b32fc",
      "metadata": {
        "id": "539b32fc",
        "outputId": "2411b894-c1c5-432b-8b1b-26421c3efa2a"
      },
      "outputs": [
        {
          "name": "stdout",
          "output_type": "stream",
          "text": [
            "getting train and val generator...\n",
            "Found 149918 validated image filenames.\n",
            "Found 16657 validated image filenames.\n"
          ]
        }
      ],
      "source": [
        "train_generator, val_generator = get_train_and_valid_generator(df=train_df, image_dir=data_path/'Images',\n",
        "                                                   x_col=\"Path\", y_col=config.target_labels,\n",
        "                                                   seed=42)"
      ]
    },
    {
      "cell_type": "code",
      "execution_count": null,
      "id": "cde4c538",
      "metadata": {
        "id": "cde4c538",
        "outputId": "2e89852c-b86a-4144-800f-768865db435c"
      },
      "outputs": [
        {
          "name": "stdout",
          "output_type": "stream",
          "text": [
            "Found 41621 validated image filenames.\n"
          ]
        }
      ],
      "source": [
        "test_datagen=image.ImageDataGenerator(rescale=1./255)\n",
        "test_generator = test_datagen.flow_from_dataframe(dataframe=test_df,\n",
        "                                                      directory=data_path,\n",
        "                                                      target_size=(320,320),\n",
        "                                                      class_mode='raw',\n",
        "                                                      batch_size=config.batch_size,\n",
        "                                                      shuffle=True,\n",
        "                                                      x_col=\"Path\", y_col=config.target_labels, seed=42)"
      ]
    },
    {
      "cell_type": "markdown",
      "id": "0afd761d",
      "metadata": {
        "id": "0afd761d"
      },
      "source": [
        "### Class Imbalance Handling"
      ]
    },
    {
      "cell_type": "code",
      "execution_count": null,
      "id": "ee5b4545",
      "metadata": {
        "id": "ee5b4545",
        "outputId": "ffb73c1b-ba4e-4160-de02-700d163008a0"
      },
      "outputs": [
        {
          "data": {
            "image/png": "[encoded data removed]",
            "text/plain": [
              "<Figure size 640x480 with 1 Axes>"
            ]
          },
          "metadata": {},
          "output_type": "display_data"
        }
      ],
      "source": [
        "plt.xticks(rotation=90)\n",
        "plt.bar(x=config.target_labels, height = np.mean(train_generator.labels, axis=0))\n",
        "plt.title('Frequency of each class')\n",
        "plt.show()"
      ]
    },
    {
      "cell_type": "code",
      "execution_count": null,
      "id": "24694f69",
      "metadata": {
        "id": "24694f69"
      },
      "outputs": [],
      "source": [
        "def compute_class_freq(labels):\n",
        "    N = labels.shape[0]\n",
        "\n",
        "    pos_freq = np.sum(labels, axis=0)/N\n",
        "    neg_freq = 1-pos_freq\n",
        "\n",
        "    return pos_freq, neg_freq"
      ]
    },
    {
      "cell_type": "code",
      "execution_count": null,
      "id": "d732b445",
      "metadata": {
        "id": "d732b445"
      },
      "outputs": [],
      "source": [
        "pos_freq, neg_freq = compute_class_freq(train_generator.labels)"
      ]
    },
    {
      "cell_type": "code",
      "execution_count": null,
      "id": "fe78ccc5",
      "metadata": {
        "id": "fe78ccc5",
        "outputId": "567e2cb9-6fae-4b62-f4db-e3f08e014032"
      },
      "outputs": [
        {
          "data": {
            "image/png": "[encoded data removed]",
            "text/plain": [
              "<Figure size 640x480 with 1 Axes>"
            ]
          },
          "metadata": {},
          "output_type": "display_data"
        }
      ],
      "source": [
        "data = pd.DataFrame({'Class': config.target_labels, 'Label': 'Positive', 'Value': pos_freq})\n",
        "data = data.append([{'Class': config.target_labels[l], 'Label': 'Negative', 'Value': v} for l,v in enumerate(neg_freq)], ignore_index=True)\n",
        "\n",
        "plt.xticks(rotation=90)\n",
        "f = sns.barplot(x='Class', y='Value', hue='Label', data=data)"
      ]
    },
    {
      "cell_type": "code",
      "execution_count": null,
      "id": "a0237746",
      "metadata": {
        "id": "a0237746"
      },
      "outputs": [],
      "source": [
        "pos_weights = neg_freq\n",
        "neg_weights = pos_freq\n",
        "\n",
        "pos_contri = pos_freq*pos_weights\n",
        "neg_contri = neg_freq*neg_weights"
      ]
    },
    {
      "cell_type": "code",
      "execution_count": null,
      "id": "79cd7046",
      "metadata": {
        "id": "79cd7046",
        "outputId": "8a66e824-fc07-43e8-adc9-d9bf69408fdc"
      },
      "outputs": [
        {
          "data": {
            "image/png": "[encoded data removed]",
            "text/plain": [
              "<Figure size 640x480 with 1 Axes>"
            ]
          },
          "metadata": {},
          "output_type": "display_data"
        }
      ],
      "source": [
        "data = pd.DataFrame({'Class': config.target_labels, 'Label': 'Positive', 'Value': pos_contri})\n",
        "data = data.append([{'Class': config.target_labels[l], 'Label': 'Negative', 'Value': v} for l,v in enumerate(neg_contri)], ignore_index=True)\n",
        "\n",
        "plt.xticks(rotation=90)\n",
        "f = sns.barplot(x='Class', y='Value', hue='Label', data=data)"
      ]
    },
    {
      "cell_type": "code",
      "execution_count": null,
      "id": "09f62de2",
      "metadata": {
        "id": "09f62de2"
      },
      "outputs": [],
      "source": [
        "def get_weighted_loss(pos_weights, neg_weights, epsilon=1e-3):\n",
        "\n",
        "    def weighted_loss(y_true, y_pred):\n",
        "        loss=0.0\n",
        "\n",
        "        for i in range(len(pos_weights)):\n",
        "            loss += K.mean(-(pos_weights[i]*y_true[:,i]*K.log(y_pred[:,i]+epsilon)\n",
        "                             +neg_weights[i]*(1-y_true[:,i])*K.log(1-y_pred[:,i]+epsilon)))\n",
        "\n",
        "        return loss\n",
        "    return weighted_loss"
      ]
    },
    {
      "cell_type": "code",
      "execution_count": null,
      "id": "c1194e40",
      "metadata": {
        "id": "c1194e40"
      },
      "outputs": [],
      "source": [
        "def build_model(image_size = 320, load_previous_weights = True):\n",
        "    base_model = DenseNet121(include_top= False, input_shape=(image_size,image_size,3), weights='imagenet')\n",
        "\n",
        "    # add a global spatial average pooling layer\n",
        "    x = base_model.output\n",
        "    x = GlobalAveragePooling2D()(x)\n",
        "    predictions = Dense(len(config.target_labels), activation='sigmoid')(x)\n",
        "    model = Model(inputs=base_model.input, outputs=predictions)\n",
        "    model.compile(optimizer=Adam(lr=config.lr), loss=get_weighted_loss(pos_weights, neg_weights), metrics=['accuracy','AUC'])\n",
        "    return model"
      ]
    },
    {
      "cell_type": "code",
      "execution_count": null,
      "id": "88822cff",
      "metadata": {
        "id": "88822cff"
      },
      "outputs": [],
      "source": [
        "train_x, train_y = next(train_generator)"
      ]
    },
    {
      "cell_type": "code",
      "execution_count": null,
      "id": "062da6fa",
      "metadata": {
        "id": "062da6fa"
      },
      "outputs": [],
      "source": [
        "x = val_generator.n//val_generator.batch_size"
      ]
    },
    {
      "cell_type": "code",
      "execution_count": null,
      "id": "f4e7e5b3",
      "metadata": {
        "id": "f4e7e5b3"
      },
      "outputs": [],
      "source": [
        "model = build_model(image_size=320, load_previous_weights=True)"
      ]
    },
    {
      "cell_type": "code",
      "execution_count": null,
      "id": "295cfc70",
      "metadata": {
        "id": "295cfc70",
        "outputId": "c4b1cae3-095a-44d0-9e48-551afabab13e"
      },
      "outputs": [
        {
          "name": "stdout",
          "output_type": "stream",
          "text": [
            "Epoch 1/30\n",
            "100/100 [==============================] - 564s 6s/step - loss: 0.7373 - accuracy: 0.3413 - auc: 0.8574 - val_loss: 0.7745 - val_accuracy: 0.4066 - val_auc: 0.8604\n",
            "Epoch 2/30\n",
            "100/100 [==============================] - 556s 6s/step - loss: 0.7432 - accuracy: 0.3422 - auc: 0.8601 - val_loss: 0.7319 - val_accuracy: 0.3989 - val_auc: 0.8669\n",
            "Epoch 3/30\n",
            "100/100 [==============================] - 557s 6s/step - loss: 0.7116 - accuracy: 0.3625 - auc: 0.8659 - val_loss: 0.7305 - val_accuracy: 0.3512 - val_auc: 0.8547\n",
            "Epoch 4/30\n",
            "100/100 [==============================] - 557s 6s/step - loss: 0.7326 - accuracy: 0.3713 - auc: 0.8630 - val_loss: 0.7419 - val_accuracy: 0.3660 - val_auc: 0.8847\n",
            "Epoch 5/30\n",
            "100/100 [==============================] - 550s 6s/step - loss: 0.7212 - accuracy: 0.3438 - auc: 0.8633 - val_loss: 0.7294 - val_accuracy: 0.3362 - val_auc: 0.8703\n",
            "Epoch 6/30\n",
            "100/100 [==============================] - 554s 6s/step - loss: 0.7276 - accuracy: 0.3494 - auc: 0.8645 - val_loss: 0.7595 - val_accuracy: 0.2846 - val_auc: 0.8622\n",
            "Epoch 7/30\n",
            "100/100 [==============================] - 549s 6s/step - loss: 0.7273 - accuracy: 0.3594 - auc: 0.8668 - val_loss: 0.7310 - val_accuracy: 0.3104 - val_auc: 0.8616\n",
            "Epoch 8/30\n",
            "100/100 [==============================] - 552s 6s/step - loss: 0.6972 - accuracy: 0.3359 - auc: 0.8714 - val_loss: 0.7540 - val_accuracy: 0.3074 - val_auc: 0.8587\n",
            "Epoch 9/30\n",
            "100/100 [==============================] - 552s 6s/step - loss: 0.7250 - accuracy: 0.3525 - auc: 0.8690 - val_loss: 0.7240 - val_accuracy: 0.3575 - val_auc: 0.8522\n",
            "Epoch 10/30\n",
            "100/100 [==============================] - 547s 6s/step - loss: 0.7172 - accuracy: 0.3697 - auc: 0.8697 - val_loss: 0.7445 - val_accuracy: 0.3894 - val_auc: 0.8660\n",
            "Epoch 11/30\n",
            "100/100 [==============================] - 554s 6s/step - loss: 0.7336 - accuracy: 0.3541 - auc: 0.8680 - val_loss: 0.7256 - val_accuracy: 0.3200 - val_auc: 0.8566\n",
            "Epoch 12/30\n",
            "100/100 [==============================] - 548s 6s/step - loss: 0.7096 - accuracy: 0.3512 - auc: 0.8689 - val_loss: 0.7480 - val_accuracy: 0.4778 - val_auc: 0.8580\n",
            "Epoch 13/30\n",
            "100/100 [==============================] - 546s 5s/step - loss: 0.7049 - accuracy: 0.3528 - auc: 0.8652 - val_loss: 0.7225 - val_accuracy: 0.3041 - val_auc: 0.8652\n",
            "Epoch 14/30\n",
            "100/100 [==============================] - 547s 6s/step - loss: 0.7158 - accuracy: 0.3341 - auc: 0.8630 - val_loss: 0.7251 - val_accuracy: 0.2995 - val_auc: 0.8558\n",
            "Epoch 15/30\n",
            "100/100 [==============================] - 541s 5s/step - loss: 0.6963 - accuracy: 0.3622 - auc: 0.8682 - val_loss: 0.7249 - val_accuracy: 0.4240 - val_auc: 0.8690\n",
            "Epoch 16/30\n",
            "100/100 [==============================] - 545s 5s/step - loss: 0.6958 - accuracy: 0.3694 - auc: 0.8739 - val_loss: 0.7204 - val_accuracy: 0.3367 - val_auc: 0.8795\n",
            "Epoch 17/30\n",
            "100/100 [==============================] - 535s 5s/step - loss: 0.7029 - accuracy: 0.3475 - auc: 0.8738 - val_loss: 0.7211 - val_accuracy: 0.3496 - val_auc: 0.8489\n",
            "Epoch 18/30\n",
            "100/100 [==============================] - 539s 5s/step - loss: 0.6948 - accuracy: 0.3791 - auc: 0.8733 - val_loss: 0.7373 - val_accuracy: 0.3253 - val_auc: 0.8857\n",
            "Epoch 19/30\n",
            "100/100 [==============================] - 538s 5s/step - loss: 0.7108 - accuracy: 0.3572 - auc: 0.8767 - val_loss: 0.7147 - val_accuracy: 0.3415 - val_auc: 0.8817\n",
            "Epoch 20/30\n",
            "100/100 [==============================] - 537s 5s/step - loss: 0.7004 - accuracy: 0.3503 - auc: 0.8751 - val_loss: 0.7068 - val_accuracy: 0.2999 - val_auc: 0.8581\n",
            "Epoch 21/30\n",
            "100/100 [==============================] - 538s 5s/step - loss: 0.6956 - accuracy: 0.3616 - auc: 0.8775 - val_loss: 0.7852 - val_accuracy: 0.3117 - val_auc: 0.8879\n",
            "Epoch 22/30\n",
            "100/100 [==============================] - 529s 5s/step - loss: 0.7000 - accuracy: 0.3653 - auc: 0.8727 - val_loss: 0.7351 - val_accuracy: 0.3186 - val_auc: 0.8566\n",
            "Epoch 23/30\n",
            "100/100 [==============================] - 538s 5s/step - loss: 0.6974 - accuracy: 0.3703 - auc: 0.8775 - val_loss: 0.7132 - val_accuracy: 0.4254 - val_auc: 0.8802\n",
            "Epoch 24/30\n",
            "100/100 [==============================] - 537s 5s/step - loss: 0.7074 - accuracy: 0.3288 - auc: 0.8691 - val_loss: 0.7425 - val_accuracy: 0.3250 - val_auc: 0.8423\n",
            "Epoch 25/30\n",
            "100/100 [==============================] - 532s 5s/step - loss: 0.6964 - accuracy: 0.3647 - auc: 0.8804 - val_loss: 0.7468 - val_accuracy: 0.2681 - val_auc: 0.8664\n",
            "Epoch 26/30\n",
            "100/100 [==============================] - 530s 5s/step - loss: 0.6913 - accuracy: 0.3403 - auc: 0.8748 - val_loss: 0.7479 - val_accuracy: 0.3637 - val_auc: 0.8388\n",
            "Epoch 27/30\n",
            "100/100 [==============================] - 532s 5s/step - loss: 0.6942 - accuracy: 0.3571 - auc: 0.8797 - val_loss: 0.7701 - val_accuracy: 0.3471 - val_auc: 0.8378\n",
            "Epoch 28/30\n",
            "100/100 [==============================] - 530s 5s/step - loss: 0.7039 - accuracy: 0.3572 - auc: 0.8794 - val_loss: 0.7122 - val_accuracy: 0.3486 - val_auc: 0.8813\n",
            "Epoch 29/30\n",
            "100/100 [==============================] - 529s 5s/step - loss: 0.7012 - accuracy: 0.3603 - auc: 0.8780 - val_loss: 0.7272 - val_accuracy: 0.3208 - val_auc: 0.8563\n",
            "Epoch 30/30\n",
            "100/100 [==============================] - 532s 5s/step - loss: 0.7022 - accuracy: 0.3603 - auc: 0.8707 - val_loss: 0.7178 - val_accuracy: 0.3697 - val_auc: 0.8803\n"
          ]
        }
      ],
      "source": [
        "history = model.fit(train_generator, steps_per_epoch = 100, validation_data = val_generator, validation_steps = x, epochs = config.epoch)"
      ]
    },
    {
      "cell_type": "code",
      "execution_count": null,
      "id": "7410ce0c",
      "metadata": {
        "id": "7410ce0c",
        "outputId": "c24e301e-07de-4850-adcf-5f720ba3d29c"
      },
      "outputs": [
        {
          "name": "stdout",
          "output_type": "stream",
          "text": [
            "1301/1301 [==============================] - 1170s 898ms/step\n"
          ]
        }
      ],
      "source": [
        "pred_vals = model.predict(test_generator, steps=len(test_generator))"
      ]
    },
    {
      "cell_type": "code",
      "execution_count": null,
      "id": "0512e98a",
      "metadata": {
        "id": "0512e98a"
      },
      "outputs": [],
      "source": [
        "# auc_rocs = util.get_roc_curve(config.target_labels, pred_vals, test_generator)"
      ]
    },
    {
      "cell_type": "code",
      "execution_count": null,
      "id": "bdb0be7f",
      "metadata": {
        "id": "bdb0be7f",
        "outputId": "df40743f-01b3-4a69-e844-69d6db7984c7"
      },
      "outputs": [
        {
          "data": {
            "image/png": "[encoded data removed]",
            "text/plain": [
              "<Figure size 640x480 with 2 Axes>"
            ]
          },
          "metadata": {},
          "output_type": "display_data"
        }
      ],
      "source": [
        "plt.figure(1)\n",
        "# summarize history for accuracy\n",
        "plt.subplot(211)\n",
        "plt.plot(history.history['accuracy'])\n",
        "plt.plot(history.history['val_accuracy'])\n",
        "plt.title('model accuracy')\n",
        "plt.ylabel('accuracy')\n",
        "plt.xlabel('epoch')\n",
        "plt.legend(['train', 'test'], loc='upper left')\n",
        "\n",
        "# summarize history for loss\n",
        "plt.subplot(212)\n",
        "plt.plot(history.history['loss'])\n",
        "plt.plot(history.history['val_loss'])\n",
        "plt.title('model loss')\n",
        "plt.ylabel('loss')\n",
        "plt.xlabel('epoch')\n",
        "plt.legend(['train', 'test'], loc='upper left')\n",
        "plt.show()"
      ]
    },
    {
      "cell_type": "code",
      "execution_count": null,
      "id": "8f14abe3",
      "metadata": {
        "id": "8f14abe3",
        "outputId": "9b7a0432-2b36-40e9-fc5b-190345daae69"
      },
      "outputs": [
        {
          "name": "stderr",
          "output_type": "stream",
          "text": [
            "WARNING:absl:Found untraced functions such as _jit_compiled_convolution_op, _jit_compiled_convolution_op, _jit_compiled_convolution_op, _jit_compiled_convolution_op, _jit_compiled_convolution_op while saving (showing 5 of 120). These functions will not be directly callable after loading.\n"
          ]
        },
        {
          "name": "stdout",
          "output_type": "stream",
          "text": [
            "INFO:tensorflow:Assets written to: chexpert_UIgnore_8.pb\\assets\n"
          ]
        },
        {
          "name": "stderr",
          "output_type": "stream",
          "text": [
            "INFO:tensorflow:Assets written to: chexpert_UIgnore_8.pb\\assets\n"
          ]
        }
      ],
      "source": [
        "model.save('chexpert_UIgnore_8.pb')"
      ]
    },
    {
      "cell_type": "code",
      "execution_count": null,
      "id": "938ce886",
      "metadata": {
        "id": "938ce886",
        "outputId": "e0156a8f-585d-4694-d79a-8b19127ae07b"
      },
      "outputs": [
        {
          "name": "stderr",
          "output_type": "stream",
          "text": [
            "WARNING:absl:Found untraced functions such as _jit_compiled_convolution_op, _jit_compiled_convolution_op, _jit_compiled_convolution_op, _jit_compiled_convolution_op, _jit_compiled_convolution_op while saving (showing 5 of 120). These functions will not be directly callable after loading.\n"
          ]
        },
        {
          "name": "stdout",
          "output_type": "stream",
          "text": [
            "INFO:tensorflow:Assets written to: assets\n"
          ]
        },
        {
          "name": "stderr",
          "output_type": "stream",
          "text": [
            "INFO:tensorflow:Assets written to: assets\n"
          ]
        }
      ],
      "source": [
        "tf.saved_model.save(model,\"\")"
      ]
    },
    {
      "cell_type": "code",
      "execution_count": null,
      "id": "40224c43",
      "metadata": {
        "id": "40224c43"
      },
      "outputs": [],
      "source": [
        "test_generator.labels[2]"
      ]
    },
    {
      "cell_type": "code",
      "execution_count": null,
      "id": "65374711",
      "metadata": {
        "id": "65374711"
      },
      "outputs": [],
      "source": [
        "predictions = np.argmax(pred_vals[2])"
      ]
    },
    {
      "cell_type": "code",
      "execution_count": null,
      "id": "9a7de60e",
      "metadata": {
        "id": "9a7de60e",
        "outputId": "cc94fd1a-92e8-407d-b58f-9c3ff273687a"
      },
      "outputs": [
        {
          "data": {
            "text/plain": [
              "'C:\\\\Users\\\\User1\\\\chexpert'"
            ]
          },
          "execution_count": 29,
          "metadata": {},
          "output_type": "execute_result"
        }
      ],
      "source": [
        "%pwd"
      ]
    },
    {
      "cell_type": "code",
      "execution_count": null,
      "id": "2086cbb0",
      "metadata": {
        "id": "2086cbb0"
      },
      "outputs": [],
      "source": [
        "import tensorflow as tf\n",
        "imported = tf.saved_model.load(\"\")"
      ]
    },
    {
      "cell_type": "code",
      "execution_count": null,
      "id": "78d886a5",
      "metadata": {
        "id": "78d886a5",
        "outputId": "bec32874-e29f-493f-cfc0-ef78008ca3a3"
      },
      "outputs": [
        {
          "name": "stdout",
          "output_type": "stream",
          "text": [
            "['serving_default']\n"
          ]
        }
      ],
      "source": [
        "print(list(imported.signatures.keys()))"
      ]
    },
    {
      "cell_type": "code",
      "execution_count": null,
      "id": "cb434473",
      "metadata": {
        "id": "cb434473",
        "outputId": "5168de41-8587-4e94-f595-5260d5ed3e56"
      },
      "outputs": [
        {
          "name": "stdout",
          "output_type": "stream",
          "text": [
            "{'dense': TensorSpec(shape=(None, 8), dtype=tf.float32, name='dense')}\n"
          ]
        }
      ],
      "source": [
        "infer = imported.signatures[\"serving_default\"]\n",
        "print(infer.structured_outputs)"
      ]
    },
    {
      "cell_type": "code",
      "execution_count": null,
      "id": "056aaaaf",
      "metadata": {
        "id": "056aaaaf",
        "outputId": "9666e04d-1aad-4f33-b5d5-a6f21def052b"
      },
      "outputs": [
        {
          "name": "stdout",
          "output_type": "stream",
          "text": [
            "[<tf.Tensor 'input_1:0' shape=(None, 320, 320, 3) dtype=float32>, <tf.Tensor 'unknown:0' shape=() dtype=resource>, <tf.Tensor 'unknown_0:0' shape=() dtype=resource>, <tf.Tensor 'unknown_1:0' shape=() dtype=resource>, <tf.Tensor 'unknown_2:0' shape=() dtype=resource>, <tf.Tensor 'unknown_3:0' shape=() dtype=resource>, <tf.Tensor 'unknown_4:0' shape=() dtype=resource>, <tf.Tensor 'unknown_5:0' shape=() dtype=resource>, <tf.Tensor 'unknown_6:0' shape=() dtype=resource>, <tf.Tensor 'unknown_7:0' shape=() dtype=resource>, <tf.Tensor 'unknown_8:0' shape=() dtype=resource>, <tf.Tensor 'unknown_9:0' shape=() dtype=resource>, <tf.Tensor 'unknown_10:0' shape=() dtype=resource>, <tf.Tensor 'unknown_11:0' shape=() dtype=resource>, <tf.Tensor 'unknown_12:0' shape=() dtype=resource>, <tf.Tensor 'unknown_13:0' shape=() dtype=resource>, <tf.Tensor 'unknown_14:0' shape=() dtype=resource>, <tf.Tensor 'unknown_15:0' shape=() dtype=resource>, <tf.Tensor 'unknown_16:0' shape=() dtype=resource>, <tf.Tensor 'unknown_17:0' shape=() dtype=resource>, <tf.Tensor 'unknown_18:0' shape=() dtype=resource>, <tf.Tensor 'unknown_19:0' shape=() dtype=resource>, <tf.Tensor 'unknown_20:0' shape=() dtype=resource>, <tf.Tensor 'unknown_21:0' shape=() dtype=resource>, <tf.Tensor 'unknown_22:0' shape=() dtype=resource>, <tf.Tensor 'unknown_23:0' shape=() dtype=resource>, <tf.Tensor 'unknown_24:0' shape=() dtype=resource>, <tf.Tensor 'unknown_25:0' shape=() dtype=resource>, <tf.Tensor 'unknown_26:0' shape=() dtype=resource>, <tf.Tensor 'unknown_27:0' shape=() dtype=resource>, <tf.Tensor 'unknown_28:0' shape=() dtype=resource>, <tf.Tensor 'unknown_29:0' shape=() dtype=resource>, <tf.Tensor 'unknown_30:0' shape=() dtype=resource>, <tf.Tensor 'unknown_31:0' shape=() dtype=resource>, <tf.Tensor 'unknown_32:0' shape=() dtype=resource>, <tf.Tensor 'unknown_33:0' shape=() dtype=resource>, <tf.Tensor 'unknown_34:0' shape=() dtype=resource>, <tf.Tensor 'unknown_35:0' shape=() dtype=resource>, <tf.Tensor 'unknown_36:0' shape=() dtype=resource>, <tf.Tensor 'unknown_37:0' shape=() dtype=resource>, <tf.Tensor 'unknown_38:0' shape=() dtype=resource>, <tf.Tensor 'unknown_39:0' shape=() dtype=resource>, <tf.Tensor 'unknown_40:0' shape=() dtype=resource>, <tf.Tensor 'unknown_41:0' shape=() dtype=resource>, <tf.Tensor 'unknown_42:0' shape=() dtype=resource>, <tf.Tensor 'unknown_43:0' shape=() dtype=resource>, <tf.Tensor 'unknown_44:0' shape=() dtype=resource>, <tf.Tensor 'unknown_45:0' shape=() dtype=resource>, <tf.Tensor 'unknown_46:0' shape=() dtype=resource>, <tf.Tensor 'unknown_47:0' shape=() dtype=resource>, <tf.Tensor 'unknown_48:0' shape=() dtype=resource>, <tf.Tensor 'unknown_49:0' shape=() dtype=resource>, <tf.Tensor 'unknown_50:0' shape=() dtype=resource>, <tf.Tensor 'unknown_51:0' shape=() dtype=resource>, <tf.Tensor 'unknown_52:0' shape=() dtype=resource>, <tf.Tensor 'unknown_53:0' shape=() dtype=resource>, <tf.Tensor 'unknown_54:0' shape=() dtype=resource>, <tf.Tensor 'unknown_55:0' shape=() dtype=resource>, <tf.Tensor 'unknown_56:0' shape=() dtype=resource>, <tf.Tensor 'unknown_57:0' shape=() dtype=resource>, <tf.Tensor 'unknown_58:0' shape=() dtype=resource>, <tf.Tensor 'unknown_59:0' shape=() dtype=resource>, <tf.Tensor 'unknown_60:0' shape=() dtype=resource>, <tf.Tensor 'unknown_61:0' shape=() dtype=resource>, <tf.Tensor 'unknown_62:0' shape=() dtype=resource>, <tf.Tensor 'unknown_63:0' shape=() dtype=resource>, <tf.Tensor 'unknown_64:0' shape=() dtype=resource>, <tf.Tensor 'unknown_65:0' shape=() dtype=resource>, <tf.Tensor 'unknown_66:0' shape=() dtype=resource>, <tf.Tensor 'unknown_67:0' shape=() dtype=resource>, <tf.Tensor 'unknown_68:0' shape=() dtype=resource>, <tf.Tensor 'unknown_69:0' shape=() dtype=resource>, <tf.Tensor 'unknown_70:0' shape=() dtype=resource>, <tf.Tensor 'unknown_71:0' shape=() dtype=resource>, <tf.Tensor 'unknown_72:0' shape=() dtype=resource>, <tf.Tensor 'unknown_73:0' shape=() dtype=resource>, <tf.Tensor 'unknown_74:0' shape=() dtype=resource>, <tf.Tensor 'unknown_75:0' shape=() dtype=resource>, <tf.Tensor 'unknown_76:0' shape=() dtype=resource>, <tf.Tensor 'unknown_77:0' shape=() dtype=resource>, <tf.Tensor 'unknown_78:0' shape=() dtype=resource>, <tf.Tensor 'unknown_79:0' shape=() dtype=resource>, <tf.Tensor 'unknown_80:0' shape=() dtype=resource>, <tf.Tensor 'unknown_81:0' shape=() dtype=resource>, <tf.Tensor 'unknown_82:0' shape=() dtype=resource>, <tf.Tensor 'unknown_83:0' shape=() dtype=resource>, <tf.Tensor 'unknown_84:0' shape=() dtype=resource>, <tf.Tensor 'unknown_85:0' shape=() dtype=resource>, <tf.Tensor 'unknown_86:0' shape=() dtype=resource>, <tf.Tensor 'unknown_87:0' shape=() dtype=resource>, <tf.Tensor 'unknown_88:0' shape=() dtype=resource>, <tf.Tensor 'unknown_89:0' shape=() dtype=resource>, <tf.Tensor 'unknown_90:0' shape=() dtype=resource>, <tf.Tensor 'unknown_91:0' shape=() dtype=resource>, <tf.Tensor 'unknown_92:0' shape=() dtype=resource>, <tf.Tensor 'unknown_93:0' shape=() dtype=resource>, <tf.Tensor 'unknown_94:0' shape=() dtype=resource>, <tf.Tensor 'unknown_95:0' shape=() dtype=resource>, <tf.Tensor 'unknown_96:0' shape=() dtype=resource>, <tf.Tensor 'unknown_97:0' shape=() dtype=resource>, <tf.Tensor 'unknown_98:0' shape=() dtype=resource>, <tf.Tensor 'unknown_99:0' shape=() dtype=resource>, <tf.Tensor 'unknown_100:0' shape=() dtype=resource>, <tf.Tensor 'unknown_101:0' shape=() dtype=resource>, <tf.Tensor 'unknown_102:0' shape=() dtype=resource>, <tf.Tensor 'unknown_103:0' shape=() dtype=resource>, <tf.Tensor 'unknown_104:0' shape=() dtype=resource>, <tf.Tensor 'unknown_105:0' shape=() dtype=resource>, <tf.Tensor 'unknown_106:0' shape=() dtype=resource>, <tf.Tensor 'unknown_107:0' shape=() dtype=resource>, <tf.Tensor 'unknown_108:0' shape=() dtype=resource>, <tf.Tensor 'unknown_109:0' shape=() dtype=resource>, <tf.Tensor 'unknown_110:0' shape=() dtype=resource>, <tf.Tensor 'unknown_111:0' shape=() dtype=resource>, <tf.Tensor 'unknown_112:0' shape=() dtype=resource>, <tf.Tensor 'unknown_113:0' shape=() dtype=resource>, <tf.Tensor 'unknown_114:0' shape=() dtype=resource>, <tf.Tensor 'unknown_115:0' shape=() dtype=resource>, <tf.Tensor 'unknown_116:0' shape=() dtype=resource>, <tf.Tensor 'unknown_117:0' shape=() dtype=resource>, <tf.Tensor 'unknown_118:0' shape=() dtype=resource>, <tf.Tensor 'unknown_119:0' shape=() dtype=resource>, <tf.Tensor 'unknown_120:0' shape=() dtype=resource>, <tf.Tensor 'unknown_121:0' shape=() dtype=resource>, <tf.Tensor 'unknown_122:0' shape=() dtype=resource>, <tf.Tensor 'unknown_123:0' shape=() dtype=resource>, <tf.Tensor 'unknown_124:0' shape=() dtype=resource>, <tf.Tensor 'unknown_125:0' shape=() dtype=resource>, <tf.Tensor 'unknown_126:0' shape=() dtype=resource>, <tf.Tensor 'unknown_127:0' shape=() dtype=resource>, <tf.Tensor 'unknown_128:0' shape=() dtype=resource>, <tf.Tensor 'unknown_129:0' shape=() dtype=resource>, <tf.Tensor 'unknown_130:0' shape=() dtype=resource>, <tf.Tensor 'unknown_131:0' shape=() dtype=resource>, <tf.Tensor 'unknown_132:0' shape=() dtype=resource>, <tf.Tensor 'unknown_133:0' shape=() dtype=resource>, <tf.Tensor 'unknown_134:0' shape=() dtype=resource>, <tf.Tensor 'unknown_135:0' shape=() dtype=resource>, <tf.Tensor 'unknown_136:0' shape=() dtype=resource>, <tf.Tensor 'unknown_137:0' shape=() dtype=resource>, <tf.Tensor 'unknown_138:0' shape=() dtype=resource>, <tf.Tensor 'unknown_139:0' shape=() dtype=resource>, <tf.Tensor 'unknown_140:0' shape=() dtype=resource>, <tf.Tensor 'unknown_141:0' shape=() dtype=resource>, <tf.Tensor 'unknown_142:0' shape=() dtype=resource>, <tf.Tensor 'unknown_143:0' shape=() dtype=resource>, <tf.Tensor 'unknown_144:0' shape=() dtype=resource>, <tf.Tensor 'unknown_145:0' shape=() dtype=resource>, <tf.Tensor 'unknown_146:0' shape=() dtype=resource>, <tf.Tensor 'unknown_147:0' shape=() dtype=resource>, <tf.Tensor 'unknown_148:0' shape=() dtype=resource>, <tf.Tensor 'unknown_149:0' shape=() dtype=resource>, <tf.Tensor 'unknown_150:0' shape=() dtype=resource>, <tf.Tensor 'unknown_151:0' shape=() dtype=resource>, <tf.Tensor 'unknown_152:0' shape=() dtype=resource>, <tf.Tensor 'unknown_153:0' shape=() dtype=resource>, <tf.Tensor 'unknown_154:0' shape=() dtype=resource>, <tf.Tensor 'unknown_155:0' shape=() dtype=resource>, <tf.Tensor 'unknown_156:0' shape=() dtype=resource>, <tf.Tensor 'unknown_157:0' shape=() dtype=resource>, <tf.Tensor 'unknown_158:0' shape=() dtype=resource>, <tf.Tensor 'unknown_159:0' shape=() dtype=resource>, <tf.Tensor 'unknown_160:0' shape=() dtype=resource>, <tf.Tensor 'unknown_161:0' shape=() dtype=resource>, <tf.Tensor 'unknown_162:0' shape=() dtype=resource>, <tf.Tensor 'unknown_163:0' shape=() dtype=resource>, <tf.Tensor 'unknown_164:0' shape=() dtype=resource>, <tf.Tensor 'unknown_165:0' shape=() dtype=resource>, <tf.Tensor 'unknown_166:0' shape=() dtype=resource>, <tf.Tensor 'unknown_167:0' shape=() dtype=resource>, <tf.Tensor 'unknown_168:0' shape=() dtype=resource>, <tf.Tensor 'unknown_169:0' shape=() dtype=resource>, <tf.Tensor 'unknown_170:0' shape=() dtype=resource>, <tf.Tensor 'unknown_171:0' shape=() dtype=resource>, <tf.Tensor 'unknown_172:0' shape=() dtype=resource>, <tf.Tensor 'unknown_173:0' shape=() dtype=resource>, <tf.Tensor 'unknown_174:0' shape=() dtype=resource>, <tf.Tensor 'unknown_175:0' shape=() dtype=resource>, <tf.Tensor 'unknown_176:0' shape=() dtype=resource>, <tf.Tensor 'unknown_177:0' shape=() dtype=resource>, <tf.Tensor 'unknown_178:0' shape=() dtype=resource>, <tf.Tensor 'unknown_179:0' shape=() dtype=resource>, <tf.Tensor 'unknown_180:0' shape=() dtype=resource>, <tf.Tensor 'unknown_181:0' shape=() dtype=resource>, <tf.Tensor 'unknown_182:0' shape=() dtype=resource>, <tf.Tensor 'unknown_183:0' shape=() dtype=resource>, <tf.Tensor 'unknown_184:0' shape=() dtype=resource>, <tf.Tensor 'unknown_185:0' shape=() dtype=resource>, <tf.Tensor 'unknown_186:0' shape=() dtype=resource>, <tf.Tensor 'unknown_187:0' shape=() dtype=resource>, <tf.Tensor 'unknown_188:0' shape=() dtype=resource>, <tf.Tensor 'unknown_189:0' shape=() dtype=resource>, <tf.Tensor 'unknown_190:0' shape=() dtype=resource>, <tf.Tensor 'unknown_191:0' shape=() dtype=resource>, <tf.Tensor 'unknown_192:0' shape=() dtype=resource>, <tf.Tensor 'unknown_193:0' shape=() dtype=resource>, <tf.Tensor 'unknown_194:0' shape=() dtype=resource>, <tf.Tensor 'unknown_195:0' shape=() dtype=resource>, <tf.Tensor 'unknown_196:0' shape=() dtype=resource>, <tf.Tensor 'unknown_197:0' shape=() dtype=resource>, <tf.Tensor 'unknown_198:0' shape=() dtype=resource>, <tf.Tensor 'unknown_199:0' shape=() dtype=resource>, <tf.Tensor 'unknown_200:0' shape=() dtype=resource>, <tf.Tensor 'unknown_201:0' shape=() dtype=resource>, <tf.Tensor 'unknown_202:0' shape=() dtype=resource>, <tf.Tensor 'unknown_203:0' shape=() dtype=resource>, <tf.Tensor 'unknown_204:0' shape=() dtype=resource>, <tf.Tensor 'unknown_205:0' shape=() dtype=resource>, <tf.Tensor 'unknown_206:0' shape=() dtype=resource>, <tf.Tensor 'unknown_207:0' shape=() dtype=resource>, <tf.Tensor 'unknown_208:0' shape=() dtype=resource>, <tf.Tensor 'unknown_209:0' shape=() dtype=resource>, <tf.Tensor 'unknown_210:0' shape=() dtype=resource>, <tf.Tensor 'unknown_211:0' shape=() dtype=resource>, <tf.Tensor 'unknown_212:0' shape=() dtype=resource>, <tf.Tensor 'unknown_213:0' shape=() dtype=resource>, <tf.Tensor 'unknown_214:0' shape=() dtype=resource>, <tf.Tensor 'unknown_215:0' shape=() dtype=resource>, <tf.Tensor 'unknown_216:0' shape=() dtype=resource>, <tf.Tensor 'unknown_217:0' shape=() dtype=resource>, <tf.Tensor 'unknown_218:0' shape=() dtype=resource>, <tf.Tensor 'unknown_219:0' shape=() dtype=resource>, <tf.Tensor 'unknown_220:0' shape=() dtype=resource>, <tf.Tensor 'unknown_221:0' shape=() dtype=resource>, <tf.Tensor 'unknown_222:0' shape=() dtype=resource>, <tf.Tensor 'unknown_223:0' shape=() dtype=resource>, <tf.Tensor 'unknown_224:0' shape=() dtype=resource>, <tf.Tensor 'unknown_225:0' shape=() dtype=resource>, <tf.Tensor 'unknown_226:0' shape=() dtype=resource>, <tf.Tensor 'unknown_227:0' shape=() dtype=resource>, <tf.Tensor 'unknown_228:0' shape=() dtype=resource>, <tf.Tensor 'unknown_229:0' shape=() dtype=resource>, <tf.Tensor 'unknown_230:0' shape=() dtype=resource>, <tf.Tensor 'unknown_231:0' shape=() dtype=resource>, <tf.Tensor 'unknown_232:0' shape=() dtype=resource>, <tf.Tensor 'unknown_233:0' shape=() dtype=resource>, <tf.Tensor 'unknown_234:0' shape=() dtype=resource>, <tf.Tensor 'unknown_235:0' shape=() dtype=resource>, <tf.Tensor 'unknown_236:0' shape=() dtype=resource>, <tf.Tensor 'unknown_237:0' shape=() dtype=resource>, <tf.Tensor 'unknown_238:0' shape=() dtype=resource>, <tf.Tensor 'unknown_239:0' shape=() dtype=resource>, <tf.Tensor 'unknown_240:0' shape=() dtype=resource>, <tf.Tensor 'unknown_241:0' shape=() dtype=resource>, <tf.Tensor 'unknown_242:0' shape=() dtype=resource>, <tf.Tensor 'unknown_243:0' shape=() dtype=resource>, <tf.Tensor 'unknown_244:0' shape=() dtype=resource>, <tf.Tensor 'unknown_245:0' shape=() dtype=resource>, <tf.Tensor 'unknown_246:0' shape=() dtype=resource>, <tf.Tensor 'unknown_247:0' shape=() dtype=resource>, <tf.Tensor 'unknown_248:0' shape=() dtype=resource>, <tf.Tensor 'unknown_249:0' shape=() dtype=resource>, <tf.Tensor 'unknown_250:0' shape=() dtype=resource>, <tf.Tensor 'unknown_251:0' shape=() dtype=resource>, <tf.Tensor 'unknown_252:0' shape=() dtype=resource>, <tf.Tensor 'unknown_253:0' shape=() dtype=resource>, <tf.Tensor 'unknown_254:0' shape=() dtype=resource>, <tf.Tensor 'unknown_255:0' shape=() dtype=resource>, <tf.Tensor 'unknown_256:0' shape=() dtype=resource>, <tf.Tensor 'unknown_257:0' shape=() dtype=resource>, <tf.Tensor 'unknown_258:0' shape=() dtype=resource>, <tf.Tensor 'unknown_259:0' shape=() dtype=resource>, <tf.Tensor 'unknown_260:0' shape=() dtype=resource>, <tf.Tensor 'unknown_261:0' shape=() dtype=resource>, <tf.Tensor 'unknown_262:0' shape=() dtype=resource>, <tf.Tensor 'unknown_263:0' shape=() dtype=resource>, <tf.Tensor 'unknown_264:0' shape=() dtype=resource>, <tf.Tensor 'unknown_265:0' shape=() dtype=resource>, <tf.Tensor 'unknown_266:0' shape=() dtype=resource>, <tf.Tensor 'unknown_267:0' shape=() dtype=resource>, <tf.Tensor 'unknown_268:0' shape=() dtype=resource>, <tf.Tensor 'unknown_269:0' shape=() dtype=resource>, <tf.Tensor 'unknown_270:0' shape=() dtype=resource>, <tf.Tensor 'unknown_271:0' shape=() dtype=resource>, <tf.Tensor 'unknown_272:0' shape=() dtype=resource>, <tf.Tensor 'unknown_273:0' shape=() dtype=resource>, <tf.Tensor 'unknown_274:0' shape=() dtype=resource>, <tf.Tensor 'unknown_275:0' shape=() dtype=resource>, <tf.Tensor 'unknown_276:0' shape=() dtype=resource>, <tf.Tensor 'unknown_277:0' shape=() dtype=resource>, <tf.Tensor 'unknown_278:0' shape=() dtype=resource>, <tf.Tensor 'unknown_279:0' shape=() dtype=resource>, <tf.Tensor 'unknown_280:0' shape=() dtype=resource>, <tf.Tensor 'unknown_281:0' shape=() dtype=resource>, <tf.Tensor 'unknown_282:0' shape=() dtype=resource>, <tf.Tensor 'unknown_283:0' shape=() dtype=resource>, <tf.Tensor 'unknown_284:0' shape=() dtype=resource>, <tf.Tensor 'unknown_285:0' shape=() dtype=resource>, <tf.Tensor 'unknown_286:0' shape=() dtype=resource>, <tf.Tensor 'unknown_287:0' shape=() dtype=resource>, <tf.Tensor 'unknown_288:0' shape=() dtype=resource>, <tf.Tensor 'unknown_289:0' shape=() dtype=resource>, <tf.Tensor 'unknown_290:0' shape=() dtype=resource>, <tf.Tensor 'unknown_291:0' shape=() dtype=resource>, <tf.Tensor 'unknown_292:0' shape=() dtype=resource>, <tf.Tensor 'unknown_293:0' shape=() dtype=resource>, <tf.Tensor 'unknown_294:0' shape=() dtype=resource>, <tf.Tensor 'unknown_295:0' shape=() dtype=resource>, <tf.Tensor 'unknown_296:0' shape=() dtype=resource>, <tf.Tensor 'unknown_297:0' shape=() dtype=resource>, <tf.Tensor 'unknown_298:0' shape=() dtype=resource>, <tf.Tensor 'unknown_299:0' shape=() dtype=resource>, <tf.Tensor 'unknown_300:0' shape=() dtype=resource>, <tf.Tensor 'unknown_301:0' shape=() dtype=resource>, <tf.Tensor 'unknown_302:0' shape=() dtype=resource>, <tf.Tensor 'unknown_303:0' shape=() dtype=resource>, <tf.Tensor 'unknown_304:0' shape=() dtype=resource>, <tf.Tensor 'unknown_305:0' shape=() dtype=resource>, <tf.Tensor 'unknown_306:0' shape=() dtype=resource>, <tf.Tensor 'unknown_307:0' shape=() dtype=resource>, <tf.Tensor 'unknown_308:0' shape=() dtype=resource>, <tf.Tensor 'unknown_309:0' shape=() dtype=resource>, <tf.Tensor 'unknown_310:0' shape=() dtype=resource>, <tf.Tensor 'unknown_311:0' shape=() dtype=resource>, <tf.Tensor 'unknown_312:0' shape=() dtype=resource>, <tf.Tensor 'unknown_313:0' shape=() dtype=resource>, <tf.Tensor 'unknown_314:0' shape=() dtype=resource>, <tf.Tensor 'unknown_315:0' shape=() dtype=resource>, <tf.Tensor 'unknown_316:0' shape=() dtype=resource>, <tf.Tensor 'unknown_317:0' shape=() dtype=resource>, <tf.Tensor 'unknown_318:0' shape=() dtype=resource>, <tf.Tensor 'unknown_319:0' shape=() dtype=resource>, <tf.Tensor 'unknown_320:0' shape=() dtype=resource>, <tf.Tensor 'unknown_321:0' shape=() dtype=resource>, <tf.Tensor 'unknown_322:0' shape=() dtype=resource>, <tf.Tensor 'unknown_323:0' shape=() dtype=resource>, <tf.Tensor 'unknown_324:0' shape=() dtype=resource>, <tf.Tensor 'unknown_325:0' shape=() dtype=resource>, <tf.Tensor 'unknown_326:0' shape=() dtype=resource>, <tf.Tensor 'unknown_327:0' shape=() dtype=resource>, <tf.Tensor 'unknown_328:0' shape=() dtype=resource>, <tf.Tensor 'unknown_329:0' shape=() dtype=resource>, <tf.Tensor 'unknown_330:0' shape=() dtype=resource>, <tf.Tensor 'unknown_331:0' shape=() dtype=resource>, <tf.Tensor 'unknown_332:0' shape=() dtype=resource>, <tf.Tensor 'unknown_333:0' shape=() dtype=resource>, <tf.Tensor 'unknown_334:0' shape=() dtype=resource>, <tf.Tensor 'unknown_335:0' shape=() dtype=resource>, <tf.Tensor 'unknown_336:0' shape=() dtype=resource>, <tf.Tensor 'unknown_337:0' shape=() dtype=resource>, <tf.Tensor 'unknown_338:0' shape=() dtype=resource>, <tf.Tensor 'unknown_339:0' shape=() dtype=resource>, <tf.Tensor 'unknown_340:0' shape=() dtype=resource>, <tf.Tensor 'unknown_341:0' shape=() dtype=resource>, <tf.Tensor 'unknown_342:0' shape=() dtype=resource>, <tf.Tensor 'unknown_343:0' shape=() dtype=resource>, <tf.Tensor 'unknown_344:0' shape=() dtype=resource>, <tf.Tensor 'unknown_345:0' shape=() dtype=resource>, <tf.Tensor 'unknown_346:0' shape=() dtype=resource>, <tf.Tensor 'unknown_347:0' shape=() dtype=resource>, <tf.Tensor 'unknown_348:0' shape=() dtype=resource>, <tf.Tensor 'unknown_349:0' shape=() dtype=resource>, <tf.Tensor 'unknown_350:0' shape=() dtype=resource>, <tf.Tensor 'unknown_351:0' shape=() dtype=resource>, <tf.Tensor 'unknown_352:0' shape=() dtype=resource>, <tf.Tensor 'unknown_353:0' shape=() dtype=resource>, <tf.Tensor 'unknown_354:0' shape=() dtype=resource>, <tf.Tensor 'unknown_355:0' shape=() dtype=resource>, <tf.Tensor 'unknown_356:0' shape=() dtype=resource>, <tf.Tensor 'unknown_357:0' shape=() dtype=resource>, <tf.Tensor 'unknown_358:0' shape=() dtype=resource>, <tf.Tensor 'unknown_359:0' shape=() dtype=resource>, <tf.Tensor 'unknown_360:0' shape=() dtype=resource>, <tf.Tensor 'unknown_361:0' shape=() dtype=resource>, <tf.Tensor 'unknown_362:0' shape=() dtype=resource>, <tf.Tensor 'unknown_363:0' shape=() dtype=resource>, <tf.Tensor 'unknown_364:0' shape=() dtype=resource>, <tf.Tensor 'unknown_365:0' shape=() dtype=resource>, <tf.Tensor 'unknown_366:0' shape=() dtype=resource>, <tf.Tensor 'unknown_367:0' shape=() dtype=resource>, <tf.Tensor 'unknown_368:0' shape=() dtype=resource>, <tf.Tensor 'unknown_369:0' shape=() dtype=resource>, <tf.Tensor 'unknown_370:0' shape=() dtype=resource>, <tf.Tensor 'unknown_371:0' shape=() dtype=resource>, <tf.Tensor 'unknown_372:0' shape=() dtype=resource>, <tf.Tensor 'unknown_373:0' shape=() dtype=resource>, <tf.Tensor 'unknown_374:0' shape=() dtype=resource>, <tf.Tensor 'unknown_375:0' shape=() dtype=resource>, <tf.Tensor 'unknown_376:0' shape=() dtype=resource>, <tf.Tensor 'unknown_377:0' shape=() dtype=resource>, <tf.Tensor 'unknown_378:0' shape=() dtype=resource>, <tf.Tensor 'unknown_379:0' shape=() dtype=resource>, <tf.Tensor 'unknown_380:0' shape=() dtype=resource>, <tf.Tensor 'unknown_381:0' shape=() dtype=resource>, <tf.Tensor 'unknown_382:0' shape=() dtype=resource>, <tf.Tensor 'unknown_383:0' shape=() dtype=resource>, <tf.Tensor 'unknown_384:0' shape=() dtype=resource>, <tf.Tensor 'unknown_385:0' shape=() dtype=resource>, <tf.Tensor 'unknown_386:0' shape=() dtype=resource>, <tf.Tensor 'unknown_387:0' shape=() dtype=resource>, <tf.Tensor 'unknown_388:0' shape=() dtype=resource>, <tf.Tensor 'unknown_389:0' shape=() dtype=resource>, <tf.Tensor 'unknown_390:0' shape=() dtype=resource>, <tf.Tensor 'unknown_391:0' shape=() dtype=resource>, <tf.Tensor 'unknown_392:0' shape=() dtype=resource>, <tf.Tensor 'unknown_393:0' shape=() dtype=resource>, <tf.Tensor 'unknown_394:0' shape=() dtype=resource>, <tf.Tensor 'unknown_395:0' shape=() dtype=resource>, <tf.Tensor 'unknown_396:0' shape=() dtype=resource>, <tf.Tensor 'unknown_397:0' shape=() dtype=resource>, <tf.Tensor 'unknown_398:0' shape=() dtype=resource>, <tf.Tensor 'unknown_399:0' shape=() dtype=resource>, <tf.Tensor 'unknown_400:0' shape=() dtype=resource>, <tf.Tensor 'unknown_401:0' shape=() dtype=resource>, <tf.Tensor 'unknown_402:0' shape=() dtype=resource>, <tf.Tensor 'unknown_403:0' shape=() dtype=resource>, <tf.Tensor 'unknown_404:0' shape=() dtype=resource>, <tf.Tensor 'unknown_405:0' shape=() dtype=resource>, <tf.Tensor 'unknown_406:0' shape=() dtype=resource>, <tf.Tensor 'unknown_407:0' shape=() dtype=resource>, <tf.Tensor 'unknown_408:0' shape=() dtype=resource>, <tf.Tensor 'unknown_409:0' shape=() dtype=resource>, <tf.Tensor 'unknown_410:0' shape=() dtype=resource>, <tf.Tensor 'unknown_411:0' shape=() dtype=resource>, <tf.Tensor 'unknown_412:0' shape=() dtype=resource>, <tf.Tensor 'unknown_413:0' shape=() dtype=resource>, <tf.Tensor 'unknown_414:0' shape=() dtype=resource>, <tf.Tensor 'unknown_415:0' shape=() dtype=resource>, <tf.Tensor 'unknown_416:0' shape=() dtype=resource>, <tf.Tensor 'unknown_417:0' shape=() dtype=resource>, <tf.Tensor 'unknown_418:0' shape=() dtype=resource>, <tf.Tensor 'unknown_419:0' shape=() dtype=resource>, <tf.Tensor 'unknown_420:0' shape=() dtype=resource>, <tf.Tensor 'unknown_421:0' shape=() dtype=resource>, <tf.Tensor 'unknown_422:0' shape=() dtype=resource>, <tf.Tensor 'unknown_423:0' shape=() dtype=resource>, <tf.Tensor 'unknown_424:0' shape=() dtype=resource>, <tf.Tensor 'unknown_425:0' shape=() dtype=resource>, <tf.Tensor 'unknown_426:0' shape=() dtype=resource>, <tf.Tensor 'unknown_427:0' shape=() dtype=resource>, <tf.Tensor 'unknown_428:0' shape=() dtype=resource>, <tf.Tensor 'unknown_429:0' shape=() dtype=resource>, <tf.Tensor 'unknown_430:0' shape=() dtype=resource>, <tf.Tensor 'unknown_431:0' shape=() dtype=resource>, <tf.Tensor 'unknown_432:0' shape=() dtype=resource>, <tf.Tensor 'unknown_433:0' shape=() dtype=resource>, <tf.Tensor 'unknown_434:0' shape=() dtype=resource>, <tf.Tensor 'unknown_435:0' shape=() dtype=resource>, <tf.Tensor 'unknown_436:0' shape=() dtype=resource>, <tf.Tensor 'unknown_437:0' shape=() dtype=resource>, <tf.Tensor 'unknown_438:0' shape=() dtype=resource>, <tf.Tensor 'unknown_439:0' shape=() dtype=resource>, <tf.Tensor 'unknown_440:0' shape=() dtype=resource>, <tf.Tensor 'unknown_441:0' shape=() dtype=resource>, <tf.Tensor 'unknown_442:0' shape=() dtype=resource>, <tf.Tensor 'unknown_443:0' shape=() dtype=resource>, <tf.Tensor 'unknown_444:0' shape=() dtype=resource>, <tf.Tensor 'unknown_445:0' shape=() dtype=resource>, <tf.Tensor 'unknown_446:0' shape=() dtype=resource>, <tf.Tensor 'unknown_447:0' shape=() dtype=resource>, <tf.Tensor 'unknown_448:0' shape=() dtype=resource>, <tf.Tensor 'unknown_449:0' shape=() dtype=resource>, <tf.Tensor 'unknown_450:0' shape=() dtype=resource>, <tf.Tensor 'unknown_451:0' shape=() dtype=resource>, <tf.Tensor 'unknown_452:0' shape=() dtype=resource>, <tf.Tensor 'unknown_453:0' shape=() dtype=resource>, <tf.Tensor 'unknown_454:0' shape=() dtype=resource>, <tf.Tensor 'unknown_455:0' shape=() dtype=resource>, <tf.Tensor 'unknown_456:0' shape=() dtype=resource>, <tf.Tensor 'unknown_457:0' shape=() dtype=resource>, <tf.Tensor 'unknown_458:0' shape=() dtype=resource>, <tf.Tensor 'unknown_459:0' shape=() dtype=resource>, <tf.Tensor 'unknown_460:0' shape=() dtype=resource>, <tf.Tensor 'unknown_461:0' shape=() dtype=resource>, <tf.Tensor 'unknown_462:0' shape=() dtype=resource>, <tf.Tensor 'unknown_463:0' shape=() dtype=resource>, <tf.Tensor 'unknown_464:0' shape=() dtype=resource>, <tf.Tensor 'unknown_465:0' shape=() dtype=resource>, <tf.Tensor 'unknown_466:0' shape=() dtype=resource>, <tf.Tensor 'unknown_467:0' shape=() dtype=resource>, <tf.Tensor 'unknown_468:0' shape=() dtype=resource>, <tf.Tensor 'unknown_469:0' shape=() dtype=resource>, <tf.Tensor 'unknown_470:0' shape=() dtype=resource>, <tf.Tensor 'unknown_471:0' shape=() dtype=resource>, <tf.Tensor 'unknown_472:0' shape=() dtype=resource>, <tf.Tensor 'unknown_473:0' shape=() dtype=resource>, <tf.Tensor 'unknown_474:0' shape=() dtype=resource>, <tf.Tensor 'unknown_475:0' shape=() dtype=resource>, <tf.Tensor 'unknown_476:0' shape=() dtype=resource>, <tf.Tensor 'unknown_477:0' shape=() dtype=resource>, <tf.Tensor 'unknown_478:0' shape=() dtype=resource>, <tf.Tensor 'unknown_479:0' shape=() dtype=resource>, <tf.Tensor 'unknown_480:0' shape=() dtype=resource>, <tf.Tensor 'unknown_481:0' shape=() dtype=resource>, <tf.Tensor 'unknown_482:0' shape=() dtype=resource>, <tf.Tensor 'unknown_483:0' shape=() dtype=resource>, <tf.Tensor 'unknown_484:0' shape=() dtype=resource>, <tf.Tensor 'unknown_485:0' shape=() dtype=resource>, <tf.Tensor 'unknown_486:0' shape=() dtype=resource>, <tf.Tensor 'unknown_487:0' shape=() dtype=resource>, <tf.Tensor 'unknown_488:0' shape=() dtype=resource>, <tf.Tensor 'unknown_489:0' shape=() dtype=resource>, <tf.Tensor 'unknown_490:0' shape=() dtype=resource>, <tf.Tensor 'unknown_491:0' shape=() dtype=resource>, <tf.Tensor 'unknown_492:0' shape=() dtype=resource>, <tf.Tensor 'unknown_493:0' shape=() dtype=resource>, <tf.Tensor 'unknown_494:0' shape=() dtype=resource>, <tf.Tensor 'unknown_495:0' shape=() dtype=resource>, <tf.Tensor 'unknown_496:0' shape=() dtype=resource>, <tf.Tensor 'unknown_497:0' shape=() dtype=resource>, <tf.Tensor 'unknown_498:0' shape=() dtype=resource>, <tf.Tensor 'unknown_499:0' shape=() dtype=resource>, <tf.Tensor 'unknown_500:0' shape=() dtype=resource>, <tf.Tensor 'unknown_501:0' shape=() dtype=resource>, <tf.Tensor 'unknown_502:0' shape=() dtype=resource>, <tf.Tensor 'unknown_503:0' shape=() dtype=resource>, <tf.Tensor 'unknown_504:0' shape=() dtype=resource>, <tf.Tensor 'unknown_505:0' shape=() dtype=resource>, <tf.Tensor 'unknown_506:0' shape=() dtype=resource>, <tf.Tensor 'unknown_507:0' shape=() dtype=resource>, <tf.Tensor 'unknown_508:0' shape=() dtype=resource>, <tf.Tensor 'unknown_509:0' shape=() dtype=resource>, <tf.Tensor 'unknown_510:0' shape=() dtype=resource>, <tf.Tensor 'unknown_511:0' shape=() dtype=resource>, <tf.Tensor 'unknown_512:0' shape=() dtype=resource>, <tf.Tensor 'unknown_513:0' shape=() dtype=resource>, <tf.Tensor 'unknown_514:0' shape=() dtype=resource>, <tf.Tensor 'unknown_515:0' shape=() dtype=resource>, <tf.Tensor 'unknown_516:0' shape=() dtype=resource>, <tf.Tensor 'unknown_517:0' shape=() dtype=resource>, <tf.Tensor 'unknown_518:0' shape=() dtype=resource>, <tf.Tensor 'unknown_519:0' shape=() dtype=resource>, <tf.Tensor 'unknown_520:0' shape=() dtype=resource>, <tf.Tensor 'unknown_521:0' shape=() dtype=resource>, <tf.Tensor 'unknown_522:0' shape=() dtype=resource>, <tf.Tensor 'unknown_523:0' shape=() dtype=resource>, <tf.Tensor 'unknown_524:0' shape=() dtype=resource>, <tf.Tensor 'unknown_525:0' shape=() dtype=resource>, <tf.Tensor 'unknown_526:0' shape=() dtype=resource>, <tf.Tensor 'unknown_527:0' shape=() dtype=resource>, <tf.Tensor 'unknown_528:0' shape=() dtype=resource>, <tf.Tensor 'unknown_529:0' shape=() dtype=resource>, <tf.Tensor 'unknown_530:0' shape=() dtype=resource>, <tf.Tensor 'unknown_531:0' shape=() dtype=resource>, <tf.Tensor 'unknown_532:0' shape=() dtype=resource>, <tf.Tensor 'unknown_533:0' shape=() dtype=resource>, <tf.Tensor 'unknown_534:0' shape=() dtype=resource>, <tf.Tensor 'unknown_535:0' shape=() dtype=resource>, <tf.Tensor 'unknown_536:0' shape=() dtype=resource>, <tf.Tensor 'unknown_537:0' shape=() dtype=resource>, <tf.Tensor 'unknown_538:0' shape=() dtype=resource>, <tf.Tensor 'unknown_539:0' shape=() dtype=resource>, <tf.Tensor 'unknown_540:0' shape=() dtype=resource>, <tf.Tensor 'unknown_541:0' shape=() dtype=resource>, <tf.Tensor 'unknown_542:0' shape=() dtype=resource>, <tf.Tensor 'unknown_543:0' shape=() dtype=resource>, <tf.Tensor 'unknown_544:0' shape=() dtype=resource>, <tf.Tensor 'unknown_545:0' shape=() dtype=resource>, <tf.Tensor 'unknown_546:0' shape=() dtype=resource>, <tf.Tensor 'unknown_547:0' shape=() dtype=resource>, <tf.Tensor 'unknown_548:0' shape=() dtype=resource>, <tf.Tensor 'unknown_549:0' shape=() dtype=resource>, <tf.Tensor 'unknown_550:0' shape=() dtype=resource>, <tf.Tensor 'unknown_551:0' shape=() dtype=resource>, <tf.Tensor 'unknown_552:0' shape=() dtype=resource>, <tf.Tensor 'unknown_553:0' shape=() dtype=resource>, <tf.Tensor 'unknown_554:0' shape=() dtype=resource>, <tf.Tensor 'unknown_555:0' shape=() dtype=resource>, <tf.Tensor 'unknown_556:0' shape=() dtype=resource>, <tf.Tensor 'unknown_557:0' shape=() dtype=resource>, <tf.Tensor 'unknown_558:0' shape=() dtype=resource>, <tf.Tensor 'unknown_559:0' shape=() dtype=resource>, <tf.Tensor 'unknown_560:0' shape=() dtype=resource>, <tf.Tensor 'unknown_561:0' shape=() dtype=resource>, <tf.Tensor 'unknown_562:0' shape=() dtype=resource>, <tf.Tensor 'unknown_563:0' shape=() dtype=resource>, <tf.Tensor 'unknown_564:0' shape=() dtype=resource>, <tf.Tensor 'unknown_565:0' shape=() dtype=resource>, <tf.Tensor 'unknown_566:0' shape=() dtype=resource>, <tf.Tensor 'unknown_567:0' shape=() dtype=resource>, <tf.Tensor 'unknown_568:0' shape=() dtype=resource>, <tf.Tensor 'unknown_569:0' shape=() dtype=resource>, <tf.Tensor 'unknown_570:0' shape=() dtype=resource>, <tf.Tensor 'unknown_571:0' shape=() dtype=resource>, <tf.Tensor 'unknown_572:0' shape=() dtype=resource>, <tf.Tensor 'unknown_573:0' shape=() dtype=resource>, <tf.Tensor 'unknown_574:0' shape=() dtype=resource>, <tf.Tensor 'unknown_575:0' shape=() dtype=resource>, <tf.Tensor 'unknown_576:0' shape=() dtype=resource>, <tf.Tensor 'unknown_577:0' shape=() dtype=resource>, <tf.Tensor 'unknown_578:0' shape=() dtype=resource>, <tf.Tensor 'unknown_579:0' shape=() dtype=resource>, <tf.Tensor 'unknown_580:0' shape=() dtype=resource>, <tf.Tensor 'unknown_581:0' shape=() dtype=resource>, <tf.Tensor 'unknown_582:0' shape=() dtype=resource>, <tf.Tensor 'unknown_583:0' shape=() dtype=resource>, <tf.Tensor 'unknown_584:0' shape=() dtype=resource>, <tf.Tensor 'unknown_585:0' shape=() dtype=resource>, <tf.Tensor 'unknown_586:0' shape=() dtype=resource>, <tf.Tensor 'unknown_587:0' shape=() dtype=resource>, <tf.Tensor 'unknown_588:0' shape=() dtype=resource>, <tf.Tensor 'unknown_589:0' shape=() dtype=resource>, <tf.Tensor 'unknown_590:0' shape=() dtype=resource>, <tf.Tensor 'unknown_591:0' shape=() dtype=resource>, <tf.Tensor 'unknown_592:0' shape=() dtype=resource>, <tf.Tensor 'unknown_593:0' shape=() dtype=resource>, <tf.Tensor 'unknown_594:0' shape=() dtype=resource>, <tf.Tensor 'unknown_595:0' shape=() dtype=resource>, <tf.Tensor 'unknown_596:0' shape=() dtype=resource>, <tf.Tensor 'unknown_597:0' shape=() dtype=resource>, <tf.Tensor 'unknown_598:0' shape=() dtype=resource>, <tf.Tensor 'unknown_599:0' shape=() dtype=resource>, <tf.Tensor 'unknown_600:0' shape=() dtype=resource>, <tf.Tensor 'unknown_601:0' shape=() dtype=resource>, <tf.Tensor 'unknown_602:0' shape=() dtype=resource>, <tf.Tensor 'unknown_603:0' shape=() dtype=resource>, <tf.Tensor 'unknown_604:0' shape=() dtype=resource>]\n"
          ]
        }
      ],
      "source": [
        "print(infer.inputs)"
      ]
    },
    {
      "cell_type": "code",
      "execution_count": null,
      "id": "2357a49e",
      "metadata": {
        "id": "2357a49e"
      },
      "outputs": [],
      "source": [
        "# from PIL import Image\n",
        "# img = Image.open(\"100.jpg\")\n",
        "# newsize=(320,320)\n",
        "# img = img.resize(newsize)\n",
        "# img_to_tensor = tf.convert_to_tensor(img)\n",
        "# print(img_to_tensor)\n",
        "# print(\"dtype of tensor:\",img_to_tensor.dtype)"
      ]
    },
    {
      "cell_type": "code",
      "execution_count": null,
      "id": "bc719182",
      "metadata": {
        "id": "bc719182"
      },
      "outputs": [],
      "source": [
        "img = tf.io.read_file(\"100.png\")\n",
        "\n",
        "# convert to tensor (specify 3 channels explicitly since png files contains additional alpha channel)\n",
        "# set the dtypes to align with pytorch for comparison since it will use uint8 by default\n",
        "tensor = tf.io.decode_image(img, channels=3, dtype=tf.dtypes.float32)\n",
        "# (384, 470, 3)\n",
        "\n",
        "# resize tensor to 224 x 224\n",
        "tensor = tf.image.resize(tensor, [320, 320])\n",
        "# (224, 224, 3)\n",
        "\n",
        "# add another dimension at the front to get NHWC shape\n",
        "input_tensor = tf.expand_dims(tensor, axis=0)"
      ]
    },
    {
      "cell_type": "code",
      "execution_count": null,
      "id": "5d930b0c",
      "metadata": {
        "id": "5d930b0c",
        "outputId": "8498b491-d3b1-454e-dc51-d4849d0e3b4b"
      },
      "outputs": [
        {
          "data": {
            "text/plain": [
              "<tf.Tensor: shape=(1, 320, 320, 3), dtype=float32, numpy=\n",
              "array([[[[0.58523285, 0.58523285, 0.58523285],\n",
              "         [0.58504903, 0.58504903, 0.58504903],\n",
              "         [0.5398285 , 0.5398285 , 0.5398285 ],\n",
              "         ...,\n",
              "         [0.02830883, 0.02830883, 0.02830883],\n",
              "         [0.07941177, 0.07941177, 0.07941177],\n",
              "         [0.23149511, 0.23149511, 0.23149511]],\n",
              "\n",
              "        [[0.29779413, 0.29779413, 0.29779413],\n",
              "         [0.33933824, 0.33933824, 0.33933824],\n",
              "         [0.3394608 , 0.3394608 , 0.3394608 ],\n",
              "         ...,\n",
              "         [0.02591912, 0.02591912, 0.02591912],\n",
              "         [0.06648285, 0.06648285, 0.06648285],\n",
              "         [0.21942404, 0.21942404, 0.21942404]],\n",
              "\n",
              "        [[0.19037992, 0.19037992, 0.19037992],\n",
              "         [0.20373777, 0.20373777, 0.20373777],\n",
              "         [0.15091912, 0.15091912, 0.15091912],\n",
              "         ...,\n",
              "         [0.02199755, 0.02199755, 0.02199755],\n",
              "         [0.05055147, 0.05055147, 0.05055147],\n",
              "         [0.1998162 , 0.1998162 , 0.1998162 ]],\n",
              "\n",
              "        ...,\n",
              "\n",
              "        [[0.01930147, 0.01930147, 0.01930147],\n",
              "         [0.01476716, 0.01476716, 0.01476716],\n",
              "         [0.01023284, 0.01023284, 0.01023284],\n",
              "         ...,\n",
              "         [0.00784314, 0.00784314, 0.00784314],\n",
              "         [0.00484069, 0.00484069, 0.00484069],\n",
              "         [0.00392157, 0.00392157, 0.00392157]],\n",
              "\n",
              "        [[0.01930147, 0.01930147, 0.01930147],\n",
              "         [0.01476716, 0.01476716, 0.01476716],\n",
              "         [0.01023284, 0.01023284, 0.01023284],\n",
              "         ...,\n",
              "         [0.01176471, 0.01176471, 0.01176471],\n",
              "         [0.01176471, 0.01176471, 0.01176471],\n",
              "         [0.01176471, 0.01176471, 0.01176471]],\n",
              "\n",
              "        [[0.01930147, 0.01930147, 0.01930147],\n",
              "         [0.01384804, 0.01384804, 0.01384804],\n",
              "         [0.00784314, 0.00784314, 0.00784314],\n",
              "         ...,\n",
              "         [0.01568628, 0.01568628, 0.01568628],\n",
              "         [0.01568628, 0.01568628, 0.01568628],\n",
              "         [0.01568628, 0.01568628, 0.01568628]]]], dtype=float32)>"
            ]
          },
          "execution_count": 59,
          "metadata": {},
          "output_type": "execute_result"
        }
      ],
      "source": [
        "input_tensor"
      ]
    }
  ],
  "metadata": {
    "kernelspec": {
      "display_name": "Python 3 (ipykernel)",
      "language": "python",
      "name": "python3"
    },
    "language_info": {
      "codemirror_mode": {
        "name": "ipython",
        "version": 3
      },
      "file_extension": ".py",
      "mimetype": "text/x-python",
      "name": "python",
      "nbconvert_exporter": "python",
      "pygments_lexer": "ipython3",
      "version": "3.9.13"
    },
    "colab": {
      "provenance": []
    }
  },
  "nbformat": 4,
  "nbformat_minor": 5
}